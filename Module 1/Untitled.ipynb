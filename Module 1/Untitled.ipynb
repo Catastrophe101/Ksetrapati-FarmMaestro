{
 "cells": [
  {
   "cell_type": "code",
   "execution_count": 1,
   "metadata": {},
   "outputs": [],
   "source": [
    "import pandas as pd\n",
    "import os\n",
    "os.chdir(\"C:/Users/nishi/Desktop/BE project/Ksetrapati-FarmMaestro/Module 1/src/Dataset/\")"
   ]
  },
  {
   "cell_type": "code",
   "execution_count": 3,
   "metadata": {},
   "outputs": [],
   "source": [
    "data=pd.read_excel(\"dataset.xlsx\")"
   ]
  },
  {
   "cell_type": "code",
   "execution_count": 13,
   "metadata": {},
   "outputs": [
    {
     "name": "stdout",
     "output_type": "stream",
     "text": [
      "['Arhar/Tur' 'Bajra' 'Gram' 'Jowar' 'Maize' 'Moong(Green Gram)'\n",
      " 'Pulses total' 'Ragi' 'Rice' 'Sugarcane' 'Total foodgrain' 'Urad'\n",
      " 'Other  Rabi pulses' 'Wheat' 'Cotton(lint)' 'Castor seed' 'Groundnut'\n",
      " 'Niger seed' 'Other Cereals & Millets' 'Other Kharif pulses' 'Sesamum'\n",
      " 'Soyabean' 'Sunflower' 'Linseed' 'Rapeseed &Mustard' 'Safflower'\n",
      " 'Small millets' nan]\n",
      "(28,)\n"
     ]
    }
   ],
   "source": [
    "uni=data['Crop'].unique()\n",
    "print(uni)\n",
    "print(uni.shape)"
   ]
  },
  {
   "cell_type": "code",
   "execution_count": null,
   "metadata": {},
   "outputs": [],
   "source": []
  }
 ],
 "metadata": {
  "kernelspec": {
   "display_name": "Python 3",
   "language": "python",
   "name": "python3"
  },
  "language_info": {
   "codemirror_mode": {
    "name": "ipython",
    "version": 3
   },
   "file_extension": ".py",
   "mimetype": "text/x-python",
   "name": "python",
   "nbconvert_exporter": "python",
   "pygments_lexer": "ipython3",
   "version": "3.6.4"
  }
 },
 "nbformat": 4,
 "nbformat_minor": 2
}
