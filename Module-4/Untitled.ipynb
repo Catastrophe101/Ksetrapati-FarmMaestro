{
 "cells": [
  {
   "cell_type": "code",
   "execution_count": 1,
   "metadata": {},
   "outputs": [
    {
     "name": "stderr",
     "output_type": "stream",
     "text": [
      "C:\\Users\\nishi\\Anaconda3\\lib\\site-packages\\statsmodels\\compat\\pandas.py:56: FutureWarning: The pandas.core.datetools module is deprecated and will be removed in a future version. Please use the pandas.tseries module instead.\n",
      "  from pandas.core import datetools\n"
     ]
    }
   ],
   "source": [
    "import pandas as pd\n",
    "import numpy as dragon\n",
    "import pylab as p\n",
    "import matplotlib.pyplot as plot\n",
    "from collections import Counter\n",
    "from statsmodels.tsa.arima_model import ARIMA\n",
    "import re\n",
    "\n",
    "#importing packages for the prediction of time-series data\n",
    "import statsmodels.api as sm\n",
    "import statsmodels.tsa.api as smt\n",
    "import statsmodels.formula.api as smf\n",
    "\n",
    "from sklearn.metrics import mean_squared_error\n",
    "modelList=list()\n",
    "cropList=list()\n",
    "marketList=list()"
   ]
  },
  {
   "cell_type": "code",
   "execution_count": 2,
   "metadata": {},
   "outputs": [
    {
     "name": "stdout",
     "output_type": "stream",
     "text": [
      "['Rice' 'Sesamum' 'Soyabean' 'Safflower' 'Mustard' 'Arhar Dal' 'Bajra'\n",
      " 'Jowar' 'Maize' 'Wheat']\n"
     ]
    }
   ],
   "source": [
    "trainog=pd.read_excel('CropPricesComplete.xlsx')\n",
    "crops=trainog['crop/commodity'].unique()\n",
    "print(crops)\n",
    "def test_stationarity(x):\n",
    "    #Determing rolling statistics\n",
    "    rolmean = x.rolling(window=22,center=False).mean()\n",
    "\n",
    "    rolstd = x.rolling(window=12,center=False).std()\n",
    "    \n",
    "    #Plot rolling statistics:\n",
    "    orig = plot.plot(x, color='blue',label='Original')\n",
    "    mean = plot.plot(rolmean, color='red', label='Rolling Mean')\n",
    "    std = plot.plot(rolstd, color='black', label = 'Rolling Std')\n",
    "    plot.legend(loc='best')\n",
    "    plot.title('Rolling Mean & Standard Deviation')\n",
    "    plot.show(block=False)\n",
    "    \n",
    "    #Perform Dickey Fuller test    \n",
    "    result=adfuller(x)\n",
    "    print('ADF Stastistic: %f'%result[0])\n",
    "    print('p-value: %f'%result[1])\n",
    "    pvalue=result[1]\n",
    "    for key,value in result[4].items():\n",
    "         if result[0]>value:\n",
    "            print(\"The graph is non stationery\")\n",
    "            break\n",
    "         else:\n",
    "            print(\"The graph is stationery\")\n",
    "            break;\n",
    "    print('Critical values:')\n",
    "    for key,value in result[4].items():\n",
    "        print('\\t%s: %.3f ' % (key, value))\n",
    "        "
   ]
  },
  {
   "cell_type": "code",
   "execution_count": 5,
   "metadata": {},
   "outputs": [],
   "source": [
    "from statsmodels.tsa.stattools import adfuller\n",
    "for i in crops:  \n",
    "    train=trainog\n",
    "    train=train[(train['Minimum Price(Rs./Quintal)']!=\"NR\")]\n",
    "    train=train[(train['crop/commodity']==i)]\n",
    "    market=train['Market'].unique()\n",
    "    print(\"For crop \"+i)\n",
    "    markets=list()\n",
    "    models=list()\n",
    "    crops=list()\n",
    "    print(market)\n",
    "    for j in market:\n",
    "        train=train[(train['Market']==j)]\n",
    "#         print(train.size)\n",
    "        if(train.size>90):\n",
    "            markets.append(j)\n",
    "            data = train['Modal Price(Rs./Quintal)']\n",
    "            Date1 = train['Date']\n",
    "            train1 = train[['Date','Modal Price(Rs./Quintal)']]\n",
    "            train2 = train1.set_index('Date')\n",
    "            train2.sort_index(inplace=True)\n",
    "            ts = train2['Modal Price(Rs./Quintal)']      \n",
    "            test_stationarity(ts)\n",
    "            ts_list=ts.tolist()\n",
    "            ts_log = dragon.log(ts_list)\n",
    "            # ts.apply(dragon.log)\n",
    "            plot.plot(ts_log,color=\"green\")\n",
    "            plot.show()\n",
    "            # print(type(ts_log))\n",
    "            test_stationarity(pd.Series(ts_log))\n",
    "            ts_log_diff = ts_log - pd.Series(ts_log).shift()\n",
    "            ts_log_diff.dropna(inplace=True)\n",
    "            test_stationarity(ts_log_diff)\n",
    "            model = ARIMA(ts_log, order=(1,1,0))  \n",
    "            results_ARIMA = model.fit(disp=-1)  \n",
    "            plot.plot(ts_log_diff)\n",
    "            plot.plot(results_ARIMA.fittedvalues, color='red')\n",
    "            plot.title('RSS: %.7f'% sum((results_ARIMA.fittedvalues-ts_log_diff)**2))\n",
    "            plot.show()\n",
    "            model = ARIMA(ts_log, order=(0,1,1))  \n",
    "            results_MA = model.fit(disp=-1)  \n",
    "            plot.plot(ts_log_diff)\n",
    "            plot.plot(results_MA.fittedvalues, color='red')\n",
    "            plot.title('RSS: %.7f'% sum((results_MA.fittedvalues-ts_log_diff)**2))\n",
    "            plot.show()\n",
    "            from statsmodels.tsa.arima_model import ARIMA\n",
    "            model = ARIMA(ts_log, order=(2,1,0))\n",
    "            results_ARIMA = model.fit(disp=-1)\n",
    "            print (str(results_ARIMA)+\" \"+i+\" \"+j)\n",
    "            models.append(results_ARIMA)\n",
    "            crops.append(i)\n",
    "            markets.append(j)\n",
    "        else :\n",
    "            print(\"No data\")   \n",
    "    modelList.append(models)\n",
    "    marketList.append(markets)\n",
    "    cropList.append(crops)"
   ]
  },
  {
   "cell_type": "code",
   "execution_count": 9,
   "metadata": {},
   "outputs": [
    {
     "name": "stdout",
     "output_type": "stream",
     "text": [
      "[['Alibagh', 'Alibagh'], [], ['Aarni', 'Aarni'], ['Ausa', 'Ausa'], ['Jalana', 'Jalana'], ['Kolhapur(Laxmipuri)', 'Kolhapur(Laxmipuri)'], [], ['Aatpadi', 'Aatpadi'], [], ['Achalpur', 'Achalpur'], ['Alibagh', 'Alibagh'], [], ['Aarni', 'Aarni'], ['Ausa', 'Ausa'], ['Jalana', 'Jalana'], ['Kolhapur(Laxmipuri)', 'Kolhapur(Laxmipuri)'], [], ['Aatpadi', 'Aatpadi'], [], ['Achalpur', 'Achalpur']]\n",
      "['Rice', 'Soyabean', 'Safflower', 'Mustard', 'Arhar Dal', 'Jowar', 'Wheat', ['Rice'], [], ['Soyabean'], ['Safflower'], ['Mustard'], ['Arhar Dal'], [], ['Jowar'], [], ['Wheat']]\n"
     ]
    }
   ],
   "source": [
    "print(marketList)\n",
    "# print(modelList)\n",
    "print(cropList)"
   ]
  },
  {
   "cell_type": "code",
   "execution_count": null,
   "metadata": {},
   "outputs": [],
   "source": []
  }
 ],
 "metadata": {
  "kernelspec": {
   "display_name": "Python 3",
   "language": "python",
   "name": "python3"
  },
  "language_info": {
   "codemirror_mode": {
    "name": "ipython",
    "version": 3
   },
   "file_extension": ".py",
   "mimetype": "text/x-python",
   "name": "python",
   "nbconvert_exporter": "python",
   "pygments_lexer": "ipython3",
   "version": "3.6.4"
  }
 },
 "nbformat": 4,
 "nbformat_minor": 2
}
